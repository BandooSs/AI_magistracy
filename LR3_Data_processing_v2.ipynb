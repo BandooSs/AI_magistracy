{
 "cells": [
  {
   "cell_type": "code",
   "execution_count": 1,
   "metadata": {},
   "outputs": [],
   "source": [
    "import pandas as pd\n",
    "import numpy as np\n",
    "import os\n",
    "\n",
    "from sklearn.decomposition import PCA"
   ]
  },
  {
   "cell_type": "code",
   "execution_count": 2,
   "metadata": {},
   "outputs": [],
   "source": [
    "\"\"\"\n",
    "Класс логистической регрессии был модифицирован и теперь метод fit возвращает список со значениями\n",
    "функции ошибки (binary cross-entropy) на каждой итерации обучения.\n",
    "\n",
    "Вы можете сравнивать графики функции ошибки для модели, обученной на `сырых данных` (пункт 1.1), и для модели, \n",
    "обученной на трансформированных данных (данные из пункта 1.3), для анализа влияния трансформаций на динамику обучения модели \n",
    "(ускорение обучения, ошибка ниже на первой итерации и т.д.).\n",
    "\"\"\"\n",
    "\n",
    "def sigmoid(x):\n",
    "    return 1 / (1 + np.exp(-x))\n",
    "\n",
    "\n",
    "def binary_cross_entropy(pred, label):\n",
    "    return -np.mean(label * np.log(pred + 1e-6) + (1. - label) * np.log(1 - pred + 1e-6))\n",
    "\n",
    "\n",
    "class LogisticRegression:\n",
    "    def __init__(self, dim=2):\n",
    "        rng = np.random.default_rng(seed=0)\n",
    "        self.w = rng.normal(size=(dim, 1)) / np.sqrt(dim)\n",
    "        self.b = np.zeros((1,))\n",
    "        \n",
    "    def predict(self, x, probs=False):\n",
    "        x = x.dot(self.w) + self.b\n",
    "        p = sigmoid(x)\n",
    "        if probs:\n",
    "            return p\n",
    "        return np.array(p > 0.5).astype('int32')\n",
    "        \n",
    "    def fit(self, x, y, iters=300, lr=0.1):\n",
    "        y = y.reshape(-1, 1)\n",
    "        loss = []\n",
    "        for i in range(iters):\n",
    "            preds = self.predict(x, probs=True)\n",
    "            self.w -= lr * x.T.dot(preds - y) / y.shape[0]\n",
    "            self.b -= lr * np.mean(preds - y, axis=0)\n",
    "            loss.append(binary_cross_entropy(preds, y))\n",
    "        return loss"
   ]
  },
  {
   "cell_type": "code",
   "execution_count": 3,
   "metadata": {},
   "outputs": [],
   "source": [
    "def load_data(folder_path):\n",
    "    x_train = pd.read_csv(os.path.join(folder_path, 'x_train.csv'))\n",
    "    y_train = pd.read_csv(os.path.join(folder_path, 'y_train.csv'))\n",
    "    x_test = pd.read_csv(os.path.join(folder_path, 'x_test.csv'))\n",
    "    y_test = pd.read_csv(os.path.join(folder_path, 'y_test.csv'))\n",
    "    return x_train, y_train, x_test, y_test"
   ]
  },
  {
   "cell_type": "code",
   "execution_count": 56,
   "metadata": {},
   "outputs": [],
   "source": [
    "x_train, y_train, x_test, y_test = load_data('lr3_dataset/')"
   ]
  },
  {
   "cell_type": "code",
   "execution_count": 57,
   "metadata": {},
   "outputs": [],
   "source": [
    "x_train = np.array(x_train)\n",
    "y_train = np.array(y_train)\n",
    "x_test = np.array(x_test)\n",
    "y_test = np.array(y_test)"
   ]
  },
  {
   "cell_type": "markdown",
   "metadata": {},
   "source": [
    "В данной лабораторной работе будет практиковаться обработка данных на примере датасета для задачи распознавания ботов в социальной сети Твиттер. Класс 0 означает человек, класс 1 означает бот. Обучите модель так, чтобы вероятность пропуска бота составляла менее 4% (данный порог может быть ослаблен в зависимости от общих результатов лабораторных). Значение метрики F1 должно быть не менее 0.95.\n",
    "\n",
    "Требование: использовать лишь 10 признаков (это могут быть либо сгенерированные признаки, либо отобранные)."
   ]
  },
  {
   "cell_type": "markdown",
   "metadata": {},
   "source": [
    "Допускается коллаборация (использование подходов к обработке данных, придуманных другими студентами) при условии ссылки на автора подхода в комментариях к коду (фамилия и инициалы)."
   ]
  },
  {
   "cell_type": "markdown",
   "metadata": {},
   "source": [
    "## 1.1 Обучение baseline модели"
   ]
  },
  {
   "cell_type": "markdown",
   "metadata": {},
   "source": [
    "Указание: в данном пункте не применяйте трансформации к данным за рамками указанных. Это необходимо для того, чтобы вы могли проводить сравнение в дальнейшем для лучшего понимания влияния вашего подхода к обработке данных на качество модели. Обучение baseline модели - стандартная практика, что даёт вам минимально рабочую модель и при этом позволяет отслеживать ваш прогресс."
   ]
  },
  {
   "cell_type": "code",
   "execution_count": 58,
   "metadata": {},
   "outputs": [],
   "source": [
    "unique_elements_train, counts_train = np.unique(y_train, return_counts=True)\n",
    "unique_elements_test, counts_test = np.unique(y_test, return_counts=True)"
   ]
  },
  {
   "cell_type": "code",
   "execution_count": 59,
   "metadata": {},
   "outputs": [
    {
     "name": "stdout",
     "output_type": "stream",
     "text": [
      "Тренировочная выборка имеет 1920 экземпляров и 19 признаков\n",
      "Число разных классов -->[1428  492]\n"
     ]
    }
   ],
   "source": [
    "print(f\"Тренировочная выборка имеет {x_train.shape[0]} экземпляров и {x_train.shape[1]} признаков\\nЧисло разных классов -->{counts_train}\")"
   ]
  },
  {
   "cell_type": "code",
   "execution_count": 60,
   "metadata": {},
   "outputs": [
    {
     "name": "stdout",
     "output_type": "stream",
     "text": [
      "Тестовая выборка имеет 480 экземпляров и 19 признаков\n",
      "Число разных классов -->[372 108]\n"
     ]
    }
   ],
   "source": [
    "print(f\"Тестовая выборка имеет {x_test.shape[0]} экземпляров и {x_test.shape[1]} признаков\\nЧисло разных классов -->{counts_test}\")"
   ]
  },
  {
   "cell_type": "code",
   "execution_count": 61,
   "metadata": {},
   "outputs": [],
   "source": []
  },
  {
   "cell_type": "code",
   "execution_count": 62,
   "metadata": {},
   "outputs": [
    {
     "data": {
      "text/plain": [
       "<Axes: ylabel='Count'>"
      ]
     },
     "execution_count": 62,
     "metadata": {},
     "output_type": "execute_result"
    },
    {
     "data": {
      "image/png": "[encoded data removed]",
      "text/plain": [
       "<Figure size 640x480 with 1 Axes>"
      ]
     },
     "metadata": {},
     "output_type": "display_data"
    }
   ],
   "source": [
    "sns.histplot(x_train, bins=30, kde=False, color='blue', edgecolor='black')"
   ]
  },
  {
   "cell_type": "markdown",
   "metadata": {},
   "source": [
    "Сначала избавимся от выбросов. Буду использовать метод \"95 перцентиль\", т.к. правило трех сигм удалило не все выбросы!"
   ]
  },
  {
   "cell_type": "code",
   "execution_count": 63,
   "metadata": {},
   "outputs": [],
   "source": [
    "perc = np.percentile(x_train,95)\n",
    "left_lim, right_lim = 0, perc"
   ]
  },
  {
   "cell_type": "code",
   "execution_count": 64,
   "metadata": {},
   "outputs": [],
   "source": [
    "x_train = np.clip(left_lim,right_lim,x_train)"
   ]
  },
  {
   "cell_type": "code",
   "execution_count": 65,
   "metadata": {},
   "outputs": [
    {
     "data": {
      "text/plain": [
       "<Axes: ylabel='Count'>"
      ]
     },
     "execution_count": 65,
     "metadata": {},
     "output_type": "execute_result"
    },
    {
     "data": {
      "image/png": "[encoded data removed]",
      "text/plain": [
       "<Figure size 640x480 with 1 Axes>"
      ]
     },
     "metadata": {},
     "output_type": "display_data"
    }
   ],
   "source": [
    "sns.histplot(x_train, bins=30, kde=False, color='blue', edgecolor='black')"
   ]
  },
  {
   "cell_type": "markdown",
   "metadata": {},
   "source": [
    "PCA лучше всего работает с нормализованным набором функций. "
   ]
  },
  {
   "cell_type": "code",
   "execution_count": 66,
   "metadata": {},
   "outputs": [],
   "source": [
    "from sklearn.preprocessing import StandardScaler \n",
    "\n",
    "mean = np.mean(x_train,axis = 0)\n",
    "std = np.std(x_train, axis = 0)\n",
    "x_train_normed = (x_train - mean)/std\n",
    "x_test = (x_test - mean)/std"
   ]
  },
  {
   "cell_type": "code",
   "execution_count": 67,
   "metadata": {},
   "outputs": [],
   "source": [
    "# Снизьте размерность данных одним из способов:\n",
    "# - вручную отобрав 10 признаков\n",
    "# - используя PCA (from sklearn.decomposition import PCA)\n",
    "\n",
    "# Напишите ваш код здесь.\n",
    "n_components = 10\n",
    "pca = PCA(n_components=n_components)\n",
    "x_train_PCA = pca.fit_transform(x_train_mormed)\n",
    "x_test = pca.transform(x_test) "
   ]
  },
  {
   "cell_type": "code",
   "execution_count": 69,
   "metadata": {},
   "outputs": [
    {
     "name": "stdout",
     "output_type": "stream",
     "text": [
      "Тренировочная выборка имеет 1920 экземпляров и 10 признаков\n",
      "Число разных классов -->[1428  492]\n"
     ]
    }
   ],
   "source": [
    "print(f\"Тренировочная выборка имеет {x_train_PCA.shape[0]} экземпляров и {x_train_PCA.shape[1]} признаков\\nЧисло разных классов -->{counts_train}\")"
   ]
  },
  {
   "cell_type": "code",
   "execution_count": null,
   "metadata": {},
   "outputs": [],
   "source": [
    "# Обучите baseline модель, с которой будете проводить сравнение.\n",
    "# Используйте модель логистической регрессии выше.\n",
    "\n",
    "# Напишите ваш код здесь."
   ]
  },
  {
   "cell_type": "code",
   "execution_count": null,
   "metadata": {},
   "outputs": [],
   "source": [
    "# Оцените качество обученной модели.\n",
    "\n",
    "# Напишите ваш код здесь."
   ]
  },
  {
   "cell_type": "markdown",
   "metadata": {},
   "source": [
    "## 1.2 Анализ данных"
   ]
  },
  {
   "cell_type": "code",
   "execution_count": null,
   "metadata": {},
   "outputs": [],
   "source": [
    "# Проанализируйте данные (наличие выбросов, распределения отдельных признаков и т.д.).\n",
    "\n",
    "# Напишите ваш код здесь."
   ]
  },
  {
   "cell_type": "markdown",
   "metadata": {},
   "source": [
    "## 1.3 Обработка данных"
   ]
  },
  {
   "cell_type": "code",
   "execution_count": null,
   "metadata": {},
   "outputs": [],
   "source": [
    "# Gредложите способы нормировки/улучшения качества данных. \n",
    "# Предложения должны быть описаны комментариями по пунктам.\n",
    "# Реализуйте идеи по нормироке/улучшению качества данных.\n",
    "\n",
    "# Напишите ваш код здесь."
   ]
  },
  {
   "cell_type": "markdown",
   "metadata": {},
   "source": [
    "## 1.4 Обучение итоговой модели"
   ]
  },
  {
   "cell_type": "code",
   "execution_count": null,
   "metadata": {},
   "outputs": [],
   "source": [
    "# Обучите модель на трансформированных данных.\n",
    "\n",
    "# Напишите ваш код здесь."
   ]
  },
  {
   "cell_type": "code",
   "execution_count": null,
   "metadata": {},
   "outputs": [],
   "source": [
    "# Оцените качество обученной модели.\n",
    "\n",
    "# Напишите ваш код здесь."
   ]
  },
  {
   "cell_type": "markdown",
   "metadata": {},
   "source": [
    "## 2. Доп. задание (опционально)"
   ]
  },
  {
   "cell_type": "markdown",
   "metadata": {},
   "source": [
    "В случае невозможности балансировки классов на уровне данных (как в ЛР1) используется балансировка на алгоритмическом уровне: \n",
    "взвешиваются значения функции ошибки для разных классов (большие веса используются для редких классов, малые веса для доминирующих классов), чтобы модель во время обучения 'фокусировалась' именно на редких классах. В данной лабораторной работе балансировка на уровне данных возможна, однако рассмотрение такого подхода даст вам еще один полезный практический инструмент.\n",
    "\n",
    "Модифицируйте класс логистической регрессии так, чтобы во время обучения значения функции ошибки взвешивались для разных классов. \n",
    "Изменения будут представлять собой взвешивание индивидуальных градиентов (строки кода 28 и 29) для отдельных экземпляров данных.\n",
    "\n",
    "Указание: не изменяйте код, связанный с вычислением `binary_cross_entropy`.\n",
    "\n",
    "Сложность: энтузиаст-математик."
   ]
  },
  {
   "cell_type": "code",
   "execution_count": null,
   "metadata": {},
   "outputs": [],
   "source": [
    "def sigmoid(x):\n",
    "    return 1 / (1 + np.exp(-x))\n",
    "\n",
    "\n",
    "def binary_cross_entropy(pred, label):\n",
    "    return -np.mean(label * np.log(pred + 1e-6) + (1. - label) * np.log(1 - pred + 1e-6))\n",
    "\n",
    "\n",
    "class LogisticRegression:\n",
    "    def __init__(self, dim=2, class_weight=None):\n",
    "        self.w = np.random.randn(dim, 1) / np.sqrt(dim)\n",
    "        self.b = np.zeros((1,))\n",
    "        self.class_weight = class_weight\n",
    "        \n",
    "    def predict(self, x, probs=False):\n",
    "        x = x.dot(self.w) + self.b\n",
    "        p = sigmoid(x)\n",
    "        if probs:\n",
    "            return p\n",
    "        return np.array(p > 0.5).astype('int32')\n",
    "        \n",
    "    def fit(self, x, y, iters=300, lr=0.1):\n",
    "        # Внесите модификации здесь.\n",
    "        y = y.reshape(-1, 1)\n",
    "        loss = []\n",
    "        for i in range(iters):\n",
    "            preds = self.predict(x, probs=True)\n",
    "            self.w -= lr * x.T.dot(preds - y) / y.shape[0]\n",
    "            self.b -= lr * np.mean(preds - y, axis=0)\n",
    "            loss.append(binary_cross_entropy(preds, y))\n",
    "        return loss"
   ]
  },
  {
   "cell_type": "code",
   "execution_count": null,
   "metadata": {},
   "outputs": [],
   "source": [
    "# Предложите подход к взвешиванию классов (веса классов будут представлять собой 2 числа - вес для класса 0 и вес для класса 1). \n",
    "# Создайте и обучите модель на данных из пункта 1.4 с использованием предложенного подхода. \n",
    "# Сохраните возвращенные значения функции ошибки.\n",
    "# Оцените качество обученной модели.\n",
    "\n",
    "# Напишите ваш код здесь."
   ]
  },
  {
   "cell_type": "code",
   "execution_count": null,
   "metadata": {},
   "outputs": [],
   "source": [
    "# Создайте и обучите модель на данных из пункта 1.4 без использования взвешивания. \n",
    "# Сохраните возвращенные значения функции ошибки.\n",
    "# Оцените качество обученной модели.\n",
    "\n",
    "# Напишите ваш код здесь."
   ]
  },
  {
   "cell_type": "code",
   "execution_count": null,
   "metadata": {},
   "outputs": [],
   "source": [
    "# Постройте графики функции ошибок для обеих моделей. Сформулируйте выводы.\n",
    "\n",
    "# Напишите ваш код здесь."
   ]
  }
 ],
 "metadata": {
  "kernelspec": {
   "display_name": "Python 3 (ipykernel)",
   "language": "python",
   "name": "python3"
  },
  "language_info": {
   "codemirror_mode": {
    "name": "ipython",
    "version": 3
   },
   "file_extension": ".py",
   "mimetype": "text/x-python",
   "name": "python",
   "nbconvert_exporter": "python",
   "pygments_lexer": "ipython3",
   "version": "3.12.0"
  },
  "vscode": {
   "interpreter": {
    "hash": "49f1eb4f699f8b7f88f87f53f4084be312a6bc427f9bdec3a6d063aeb53c0623"
   }
  }
 },
 "nbformat": 4,
 "nbformat_minor": 4
}
